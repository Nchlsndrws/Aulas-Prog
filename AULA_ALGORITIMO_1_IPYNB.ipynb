{
  "nbformat": 4,
  "nbformat_minor": 0,
  "metadata": {
    "colab": {
      "provenance": [],
      "toc_visible": true,
      "authorship_tag": "ABX9TyMj61dWHRm8SLvCX9zIttky",
      "include_colab_link": true
    },
    "kernelspec": {
      "name": "python3",
      "display_name": "Python 3"
    },
    "language_info": {
      "name": "python"
    }
  },
  "cells": [
    {
      "cell_type": "markdown",
      "metadata": {
        "id": "view-in-github",
        "colab_type": "text"
      },
      "source": [
        "<a href=\"https://colab.research.google.com/github/Nchlsndrws/Aulas-Prog/blob/main/AULA_ALGORITIMO_1_IPYNB.ipynb\" target=\"_parent\"><img src=\"https://colab.research.google.com/assets/colab-badge.svg\" alt=\"Open In Colab\"/></a>"
      ]
    },
    {
      "cell_type": "markdown",
      "source": [
        "# Aula Progamação - Variáveis"
      ],
      "metadata": {
        "id": "ewYX9i3uMPz5"
      }
    },
    {
      "cell_type": "code",
      "source": [
        "print('FALA SAFADO')\n",
        "print(10+8)"
      ],
      "metadata": {
        "colab": {
          "base_uri": "https://localhost:8080/"
        },
        "id": "UeOsdGrlMkw7",
        "outputId": "46418022-4627-4a07-e87f-a85b3a3df495"
      },
      "execution_count": null,
      "outputs": [
        {
          "output_type": "stream",
          "name": "stdout",
          "text": [
            "FALA SAFADO\n",
            "18\n"
          ]
        }
      ]
    },
    {
      "cell_type": "code",
      "source": [
        "print(8 + 8)\n",
        "print(9 - 1)\n",
        "print(2*2)\n",
        "print(f'{8/7:.2f}')\n",
        "print((8+10)/2)"
      ],
      "metadata": {
        "colab": {
          "base_uri": "https://localhost:8080/"
        },
        "id": "eAMzYEi_OMMZ",
        "outputId": "fcaefe16-e94e-4280-dc36-d2ffcbaae34a"
      },
      "execution_count": null,
      "outputs": [
        {
          "output_type": "stream",
          "name": "stdout",
          "text": [
            "16\n",
            "8\n",
            "4\n",
            "1.14\n",
            "9.0\n"
          ]
        }
      ]
    },
    {
      "cell_type": "code",
      "source": [
        "a=10\n",
        "b=20\n",
        "print('A soma vale {}.'.format(int(a+b)))"
      ],
      "metadata": {
        "colab": {
          "base_uri": "https://localhost:8080/"
        },
        "id": "aZkD5S0SUbgp",
        "outputId": "16def745-3710-497e-a2f3-db0d21650a4d"
      },
      "execution_count": null,
      "outputs": [
        {
          "output_type": "stream",
          "name": "stdout",
          "text": [
            "A soma vale 30.\n"
          ]
        }
      ]
    },
    {
      "cell_type": "code",
      "source": [
        "a=8\n",
        "b=7\n",
        "c=4\n",
        "média=(a+b+c)/3\n",
        "print('A média será:{}'.format(média))"
      ],
      "metadata": {
        "colab": {
          "base_uri": "https://localhost:8080/"
        },
        "id": "v7qt7482Wb3w",
        "outputId": "9b0ceb71-55be-49cd-fb06-c6d95df8c08e"
      },
      "execution_count": null,
      "outputs": [
        {
          "output_type": "stream",
          "name": "stdout",
          "text": [
            "A média será:6.333333333333333\n"
          ]
        }
      ]
    },
    {
      "cell_type": "code",
      "source": [
        "kas= float(input('diga sua idade'))\n",
        "p=float(kas*3)\n",
        "print('a idade x3 será:{}'.format(p))"
      ],
      "metadata": {
        "colab": {
          "base_uri": "https://localhost:8080/"
        },
        "id": "87rcF8lQZVVl",
        "outputId": "d03f6292-15bf-4d20-c252-95fce4561a2d"
      },
      "execution_count": null,
      "outputs": [
        {
          "output_type": "stream",
          "name": "stdout",
          "text": [
            "diga sua idade9\n",
            "a idade x3 será:27.0\n"
          ]
        }
      ]
    },
    {
      "cell_type": "code",
      "source": [
        "R= float(input(\"valor do raio:\"))\n",
        "pi=float(3.14)\n",
        "área= pi*R**2\n",
        "print('O valor da área será:{}'.format(área))"
      ],
      "metadata": {
        "colab": {
          "base_uri": "https://localhost:8080/"
        },
        "id": "qla4SCfbapWe",
        "outputId": "dd677852-f214-423a-db4c-ea098a8d26ea"
      },
      "execution_count": null,
      "outputs": [
        {
          "output_type": "stream",
          "name": "stdout",
          "text": [
            "valor do raio:7\n",
            "O valor da área será:153.86\n"
          ]
        }
      ]
    },
    {
      "cell_type": "code",
      "source": [
        "R= float(input(\"valor do raio:\"))\n",
        "pi=float(3.14)\n",
        "área= pi*R**2\n",
        "print('O valor da área será:',área)"
      ],
      "metadata": {
        "colab": {
          "base_uri": "https://localhost:8080/"
        },
        "id": "8apinAF7cpZV",
        "outputId": "2b8e1295-8149-40ed-ce41-fba5587fa647"
      },
      "execution_count": null,
      "outputs": [
        {
          "output_type": "stream",
          "name": "stdout",
          "text": [
            "valor do raio:7\n",
            "O valor da área será: 153.86\n"
          ]
        }
      ]
    },
    {
      "cell_type": "markdown",
      "source": [
        "**CONTINUAÇÃO**"
      ],
      "metadata": {
        "id": "n08enz-RGAnx"
      }
    },
    {
      "cell_type": "code",
      "source": [
        "A=float(input('digite um valor:'))\n",
        "B=float(input('digete outro valor:'))\n",
        "C=A*B\n",
        "D=A/B\n",
        "E=A%B\n",
        "print('{:.2f},{:.2f},{:.2f}'.format(C,D,E))"
      ],
      "metadata": {
        "colab": {
          "base_uri": "https://localhost:8080/"
        },
        "id": "cNR6jrtlGIMg",
        "outputId": "7ceb9a39-03f4-44bb-b231-2cf12c98de95"
      },
      "execution_count": null,
      "outputs": [
        {
          "output_type": "stream",
          "name": "stdout",
          "text": [
            "digite um valor:5.4\n",
            "digete outro valor:6.7\n",
            "36.18,0.81,5.40\n"
          ]
        }
      ]
    },
    {
      "cell_type": "code",
      "source": [
        "Peso = float(input('digite o seu peso'))\n",
        "Altura = float(input('digite a sua altura'))\n",
        "IMC = Peso/Altura**2\n",
        "print('Seu IMC é:{:.2f}'.format(IMC))\n",
        "#print(round(imc,2))"
      ],
      "metadata": {
        "colab": {
          "base_uri": "https://localhost:8080/"
        },
        "id": "0pC4ou6SJadz",
        "outputId": "d9b0dddf-2664-4d02-ef45-78b585824b9d"
      },
      "execution_count": null,
      "outputs": [
        {
          "output_type": "stream",
          "name": "stdout",
          "text": [
            "digite o seu peso60\n",
            "digite a sua altura1.70\n",
            "Seu IMC é:20.76\n"
          ]
        }
      ]
    },
    {
      "cell_type": "code",
      "source": [
        "Peso = float(input('digite o seu peso'))\n",
        "Altura = float(input('digite a sua altura'))\n",
        "IMC = Peso/Altura**2\n",
        "print('Seu IMC é:{:.2f}'.format(IMC))"
      ],
      "metadata": {
        "colab": {
          "base_uri": "https://localhost:8080/"
        },
        "id": "pC_KhVP4KwTb",
        "outputId": "dc6e4cbe-1d35-4c1e-ed44-06ef5b8361de"
      },
      "execution_count": null,
      "outputs": [
        {
          "output_type": "stream",
          "name": "stdout",
          "text": [
            "digite o seu peso60\n",
            "digite a sua altura1.56\n",
            "Seu IMC é:24.65\n"
          ]
        }
      ]
    },
    {
      "cell_type": "code",
      "source": [
        "Nome = input('seu nome ? ')\n",
        "rua = input(' Qual o nome da sua rua? ')\n",
        "ncasa = input('Número da casa? ')\n",
        "bairro = input('Qual o seu bairro? ')\n",
        "ciadade = input('Qual a sua cidade? ')\n",
        "CEP = input('Qual o seu CEP? ')\n",
        "\n",
        "print('{}, residente da {}, {}, {}, {},{}'.format(Nome,rua,ncasa,bairro,ciadade,CEP))"
      ],
      "metadata": {
        "colab": {
          "base_uri": "https://localhost:8080/"
        },
        "id": "kyXeVm2cM4N9",
        "outputId": "c757bd0e-0f7a-481e-c8ed-4b6948c2af01"
      },
      "execution_count": null,
      "outputs": [
        {
          "output_type": "stream",
          "name": "stdout",
          "text": [
            "seu nome ? cico\n",
            " Qual o nome da sua rua? jinuior\n",
            "Número da casa? 45\n",
            "Qual o seu bairro? torre\n",
            "Qual a sua cidade? joao pessoa\n",
            "Qual o seu CEP? 58075-644\n",
            "cico, residente da jinuior, 45, torre, joao pessoa,58075-644\n"
          ]
        }
      ]
    },
    {
      "cell_type": "code",
      "source": [
        "CLEC = float(input('Quantos graus está a sua rua ? '))\n",
        "F = (CLEC*9/5)+32\n",
        "print('A temperatura em Fahrenheit é:{}'.format(F))"
      ],
      "metadata": {
        "colab": {
          "base_uri": "https://localhost:8080/"
        },
        "id": "JFFBIdUcP4_7",
        "outputId": "4f30a257-cad2-44bf-8232-835211857e39"
      },
      "execution_count": null,
      "outputs": [
        {
          "output_type": "stream",
          "name": "stdout",
          "text": [
            "Quantos graus está a sua rua ? 28\n",
            "A temperatura em Fahrenheit é:82.4\n"
          ]
        }
      ]
    },
    {
      "cell_type": "code",
      "source": [
        "idade = 20\n",
        "if idade > 18:\n",
        "  print('É maior de idade')\n",
        "else:\n",
        "  if idade < 18:\n",
        "    print('É menor de idade')"
      ],
      "metadata": {
        "colab": {
          "base_uri": "https://localhost:8080/"
        },
        "id": "TQayfDqQTgxq",
        "outputId": "9481a464-db39-4887-f13d-72f8436e07f1"
      },
      "execution_count": null,
      "outputs": [
        {
          "output_type": "stream",
          "name": "stdout",
          "text": [
            "É maior de idade\n"
          ]
        }
      ]
    },
    {
      "cell_type": "code",
      "source": [
        "idade = 5\n",
        "if idade > 18:\n",
        "  print('É maior de idade')\n",
        "else:\n",
        "  print('É menor de idade')"
      ],
      "metadata": {
        "colab": {
          "base_uri": "https://localhost:8080/"
        },
        "id": "uheqyjpCVEIJ",
        "outputId": "e6cf93fb-79d1-4a5f-a13e-860b73057112"
      },
      "execution_count": null,
      "outputs": [
        {
          "output_type": "stream",
          "name": "stdout",
          "text": [
            "É menor de idade\n"
          ]
        }
      ]
    },
    {
      "cell_type": "code",
      "source": [
        "idade = int(input('qual a sua idade ?'))\n",
        "if idade >= 60:\n",
        "  print('É idoso')\n",
        "elif idade >= 35:\n",
        "  print('É Meia idade')\n",
        "elif idade >= 18:\n",
        "  print('É maior de idade')\n",
        "else:\n",
        "    print('É de menor')"
      ],
      "metadata": {
        "colab": {
          "base_uri": "https://localhost:8080/"
        },
        "id": "M--NEEZAWO5f",
        "outputId": "a3f8a3a5-39d5-4b12-9e3f-d377919963e2"
      },
      "execution_count": null,
      "outputs": [
        {
          "output_type": "stream",
          "name": "stdout",
          "text": [
            "qual a sua idade ?9\n",
            "É de menor\n"
          ]
        }
      ]
    },
    {
      "cell_type": "code",
      "source": [
        "valor=float(input('Qual o valor do produto ?'))\n",
        "if valor <= 100.00:\n",
        "  print('Sem desconto.')\n",
        "elif valor > 101.00:\n",
        "  print('Seu desconto será de 10%')\n",
        "elif valor > 501.00:\n",
        "  print('Seu desconto será de 20%')\n",
        "elif valor >= 1000.00:\n",
        "  print('Desnconto será de 30%')"
      ],
      "metadata": {
        "id": "w-wuH_W3YHdK",
        "colab": {
          "base_uri": "https://localhost:8080/"
        },
        "outputId": "99f5103b-0dc9-4608-dce8-927c16a4bc2a"
      },
      "execution_count": 18,
      "outputs": [
        {
          "output_type": "stream",
          "name": "stdout",
          "text": [
            "Qual o valor do produto ?201.50\n",
            "Seu desconto será de 10%\n"
          ]
        }
      ]
    },
    {
      "cell_type": "code",
      "source": [
        "valor=float(input('Qual o valor do produto ? '))\n",
        "if valor <= 100.00:\n",
        "  print('Sem desconto.')\n",
        "elif valor > 101.00:\n",
        "  print('Seu desconto será de 10% e valor ficará ${}'.format(valor-(valor * 10/100)))\n",
        "elif valor > 501.00:\n",
        "  print('Seu desconto será de 20% e valor ficará ${}'.format(valor-(valor * 20/100)))\n",
        "elif valor >= 1000.00:\n",
        "  print('Desnconto será de 30% e valor ficará ${}'.format(valor-(valor * 30/100)))"
      ],
      "metadata": {
        "colab": {
          "base_uri": "https://localhost:8080/"
        },
        "id": "ZEq5ZW-ybUiL",
        "outputId": "6df8195f-8785-45b3-dee4-2b4f5d937648"
      },
      "execution_count": 29,
      "outputs": [
        {
          "output_type": "stream",
          "name": "stdout",
          "text": [
            "Qual o valor do produto ? 250.00\n",
            "Seu desconto será de 10% e valor ficará $225.0\n"
          ]
        }
      ]
    },
    {
      "cell_type": "code",
      "source": [
        "idade=13\n",
        "temCNH= True\n",
        "if idade>= 18:\n",
        "  if temCNH:\n",
        "    print('Pode dirigir')\n",
        "  else:\n",
        "    print(' Sem habiliação, não pode dirigir')\n",
        "else:\n",
        "  print('Menor de idade não pode dirigir')"
      ],
      "metadata": {
        "colab": {
          "base_uri": "https://localhost:8080/"
        },
        "id": "OyYhfy1qenac",
        "outputId": "f95c5fa0-6e2d-409d-e7b7-f4e2f992f0f6"
      },
      "execution_count": 31,
      "outputs": [
        {
          "output_type": "stream",
          "name": "stdout",
          "text": [
            "Menor de idade não pode dirigir\n"
          ]
        }
      ]
    }
  ]
}