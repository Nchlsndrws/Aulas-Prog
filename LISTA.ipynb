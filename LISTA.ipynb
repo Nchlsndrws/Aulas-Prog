{
  "nbformat": 4,
  "nbformat_minor": 0,
  "metadata": {
    "colab": {
      "provenance": [],
      "authorship_tag": "ABX9TyPdjuAF1lMdFLFJmm3rs26p",
      "include_colab_link": true
    },
    "kernelspec": {
      "name": "python3",
      "display_name": "Python 3"
    },
    "language_info": {
      "name": "python"
    }
  },
  "cells": [
    {
      "cell_type": "markdown",
      "metadata": {
        "id": "view-in-github",
        "colab_type": "text"
      },
      "source": [
        "<a href=\"https://colab.research.google.com/github/Nchlsndrws/Aulas-Prog/blob/main/LISTA.ipynb\" target=\"_parent\"><img src=\"https://colab.research.google.com/assets/colab-badge.svg\" alt=\"Open In Colab\"/></a>"
      ]
    },
    {
      "cell_type": "code",
      "execution_count": 9,
      "metadata": {
        "colab": {
          "base_uri": "https://localhost:8080/"
        },
        "id": "6zNno-nXbURZ",
        "outputId": "24115a51-eb85-41b4-cf21-f9badd12ad57"
      },
      "outputs": [
        {
          "output_type": "stream",
          "name": "stdout",
          "text": [
            "Menores que 7 [0, 5, 3, 4]\n",
            "Maiores que 7 [8, 9, 8]\n"
          ]
        }
      ],
      "source": [
        "avaliacao = [ 0, 8, 9, 5, 3, 4, 8]\n",
        "maiores = [nota for nota in avaliacao if nota > 7]\n",
        "menores = [nota for nota in avaliacao if nota < 7]\n",
        "print(\"Menores que 7 {}\".format (menores))\n",
        "print(\"Maiores que 7 {}\".format (maiores))"
      ]
    },
    {
      "cell_type": "code",
      "source": [
        "numeros = [ 1, 2, 3, 4, 5, 6, 7, 8, 9, 10]\n",
        "pares = [numero for numero in numeros if numero % 2 == 0]\n",
        "impares = [numero for numero in numeros if numero % 2 != 0]\n",
        "\n",
        "print(\"Pares {}\".format(pares))\n",
        "print(\"Impares {}\".format(impares))"
      ],
      "metadata": {
        "colab": {
          "base_uri": "https://localhost:8080/"
        },
        "id": "Jgs1s2XQcVEP",
        "outputId": "3e31915c-32fa-4134-d629-7a55b7beecee"
      },
      "execution_count": 10,
      "outputs": [
        {
          "output_type": "stream",
          "name": "stdout",
          "text": [
            "Pares [2, 4, 6, 8, 10]\n",
            "Impares [1, 3, 5, 7, 9]\n"
          ]
        }
      ]
    },
    {
      "cell_type": "code",
      "source": [
        "nome = \"Nicholas\"\n",
        "for letra in nome:\n",
        "    print(letra)\n",
        "print()\n",
        "print(len(nome))\n",
        "print()\n",
        "print(nome.upper())\n",
        "print()\n",
        "print(nome.lower())\n"
      ],
      "metadata": {
        "colab": {
          "base_uri": "https://localhost:8080/"
        },
        "id": "QQdK5mpheD5f",
        "outputId": "35da7c98-058c-4357-ef68-902462c9d0df"
      },
      "execution_count": 17,
      "outputs": [
        {
          "output_type": "stream",
          "name": "stdout",
          "text": [
            "N\n",
            "i\n",
            "c\n",
            "h\n",
            "o\n",
            "l\n",
            "a\n",
            "s\n",
            "\n",
            "8\n",
            "\n",
            "NICHOLAS\n",
            "\n",
            "nicholas\n"
          ]
        }
      ]
    },
    {
      "cell_type": "code",
      "source": [
        "nomes = ['Zé', 'Carlito', 'Vitu', 'Garfield']\n",
        "x = [nome for nome in nomes if len(nome) > 4 ]\n",
        "print (x)"
      ],
      "metadata": {
        "colab": {
          "base_uri": "https://localhost:8080/"
        },
        "id": "Iw67VSZcesg9",
        "outputId": "8335cfdb-b062-4f17-8779-22009c08b1dd"
      },
      "execution_count": 32,
      "outputs": [
        {
          "output_type": "stream",
          "name": "stdout",
          "text": [
            "['Carlito', 'Garfield']\n"
          ]
        }
      ]
    },
    {
      "cell_type": "code",
      "source": [
        "\n",
        "x = [ nome.upper() for nome in nomes if len(nome) <5 ]\n",
        "print(x)"
      ],
      "metadata": {
        "colab": {
          "base_uri": "https://localhost:8080/"
        },
        "id": "fGhjlNHLhHbC",
        "outputId": "df1a15c8-c964-4bae-e38f-2ecc56339073"
      },
      "execution_count": 36,
      "outputs": [
        {
          "output_type": "stream",
          "name": "stdout",
          "text": [
            "['ZÉ', 'VITU']\n"
          ]
        }
      ]
    },
    {
      "cell_type": "code",
      "source": [
        "dobroimpares = [n*2 for n in numeros if n % 2 != 0]\n",
        "dobropares = [n*2 for n in numeros if n % 2 == 0]\n",
        "print(dobroimpares)\n",
        "print(dobropares)"
      ],
      "metadata": {
        "colab": {
          "base_uri": "https://localhost:8080/"
        },
        "id": "rqfVaAh-iIJE",
        "outputId": "65430c01-d805-49f1-dad0-04c76bcf093a"
      },
      "execution_count": 38,
      "outputs": [
        {
          "output_type": "stream",
          "name": "stdout",
          "text": [
            "[2, 6, 10, 14, 18]\n",
            "[4, 8, 12, 16, 20]\n"
          ]
        }
      ]
    },
    {
      "cell_type": "code",
      "source": [
        "notas = [9.0, 4.5, 2.3, 6.0, 8.2, 5.3]\n",
        "mais2 = [ n+2.0 for n in notas if n < 5.0]\n",
        "print(mais2)"
      ],
      "metadata": {
        "colab": {
          "base_uri": "https://localhost:8080/"
        },
        "id": "UKXV2xLRif3-",
        "outputId": "4dee0b18-75a1-45e8-9f81-2fb6901d46c2"
      },
      "execution_count": 45,
      "outputs": [
        {
          "output_type": "stream",
          "name": "stdout",
          "text": [
            "[6.5, 4.3]\n"
          ]
        }
      ]
    },
    {
      "cell_type": "code",
      "source": [
        "soma = lambda x, y: x + y\n",
        "print(soma(3, 5))"
      ],
      "metadata": {
        "colab": {
          "base_uri": "https://localhost:8080/"
        },
        "id": "6w04ccFLj1CU",
        "outputId": "af154115-e68f-47de-90b3-57de8e122594"
      },
      "execution_count": 46,
      "outputs": [
        {
          "output_type": "stream",
          "name": "stdout",
          "text": [
            "8\n"
          ]
        }
      ]
    },
    {
      "cell_type": "code",
      "source": [
        "metade = lambda x : x/2\n",
        "print(metade(10))"
      ],
      "metadata": {
        "colab": {
          "base_uri": "https://localhost:8080/"
        },
        "id": "AIUBIanDlSM0",
        "outputId": "addd5486-88c1-4be7-89f9-f59e9d7a13e5"
      },
      "execution_count": 47,
      "outputs": [
        {
          "output_type": "stream",
          "name": "stdout",
          "text": [
            "5.0\n"
          ]
        }
      ]
    },
    {
      "cell_type": "code",
      "source": [
        "#map() > tranformar\n",
        "#filter > Selecionar\n",
        "\n",
        "numeros = [1, 2, 3, 4, 5, 6, 7, 8, 9, 10]\n",
        "dobro = list(map(lambda x: x*2, numeros))\n",
        "print(dobro)\n",
        "numeros = [1, 2, 3, 4, 5, 6, 7, 8, 9, 10]\n",
        "QUADRADO = list(map(lambda x: x**2, numeros))\n",
        "print(QUADRADO)"
      ],
      "metadata": {
        "colab": {
          "base_uri": "https://localhost:8080/"
        },
        "id": "bl7yvLVDl3aM",
        "outputId": "d54b971f-91f1-4922-ac96-6f84328f1deb"
      },
      "execution_count": 49,
      "outputs": [
        {
          "output_type": "stream",
          "name": "stdout",
          "text": [
            "[2, 4, 6, 8, 10, 12, 14, 16, 18, 20]\n",
            "[1, 4, 9, 16, 25, 36, 49, 64, 81, 100]\n"
          ]
        }
      ]
    },
    {
      "cell_type": "code",
      "source": [
        "palavras = [ 'é', 'hoje', 'meu', 'corno']\n",
        "maiusculas = list(map(lambda x: x.upper(), palavras))\n",
        "print(maiusculas)"
      ],
      "metadata": {
        "id": "-UBRTueinpOu"
      },
      "execution_count": null,
      "outputs": []
    },
    {
      "cell_type": "code",
      "source": [
        "numeros = [1, 2, 3, 4, 5, 6, 7, 8, 9, 10]\n",
        "pares = list(filter(lambda x: x % 2 == 0, numeros))\n",
        "print(pares)"
      ],
      "metadata": {
        "colab": {
          "base_uri": "https://localhost:8080/"
        },
        "id": "dr3mfFpmopUH",
        "outputId": "6949b3fe-bb4d-4c62-a9b0-841a13519152"
      },
      "execution_count": 50,
      "outputs": [
        {
          "output_type": "stream",
          "name": "stdout",
          "text": [
            "[2, 4, 6, 8, 10]\n"
          ]
        }
      ]
    },
    {
      "cell_type": "code",
      "source": [
        "palavras = ['é', 'hoje', 'meu', 'corno']\n",
        "maisq3 = list(filter(lambda x: len(x) > 3, palavras))\n",
        "print(maisq3)"
      ],
      "metadata": {
        "colab": {
          "base_uri": "https://localhost:8080/"
        },
        "id": "ov4BX-hlo6Cu",
        "outputId": "80422602-c3e8-4e6b-ae81-7b1adcc53591"
      },
      "execution_count": 56,
      "outputs": [
        {
          "output_type": "stream",
          "name": "stdout",
          "text": [
            "['hoje', 'corno']\n"
          ]
        }
      ]
    },
    {
      "cell_type": "code",
      "source": [
        "mior10 = list(filter(lambda x: x > 10, QUADRADO))\n",
        "print(mior10)"
      ],
      "metadata": {
        "colab": {
          "base_uri": "https://localhost:8080/"
        },
        "id": "q94uMyqjqcUj",
        "outputId": "ccee5581-5488-4da0-def5-b2f8be20e509"
      },
      "execution_count": 57,
      "outputs": [
        {
          "output_type": "stream",
          "name": "stdout",
          "text": [
            "[16, 25, 36, 49, 64, 81, 100]\n"
          ]
        }
      ]
    },
    {
      "cell_type": "code",
      "source": [
        "numeros = [3, 7, 2, 8, 1, 4, 10]\n",
        "\n",
        "\n",
        "dobrar = list(map(lambda x: x*2, numeros))\n",
        "pares = list(filter(lambda x: x % 2 == 0, numeros))\n",
        "dobro = list(map(lambda x: x*2,filter(lambda x: x % 2 == 0, pares)))\n",
        "\n",
        "print('O dobro dos numeros são {}'.format(dobrar))\n",
        "print('Os valores pares são {}'.format(pares))\n",
        "print('o dobro dos pares são {}'.format(dobro))"
      ],
      "metadata": {
        "colab": {
          "base_uri": "https://localhost:8080/"
        },
        "id": "eVqv9TWzrnRX",
        "outputId": "16123e5e-3542-4868-b899-b0db10308bdd"
      },
      "execution_count": 65,
      "outputs": [
        {
          "output_type": "stream",
          "name": "stdout",
          "text": [
            "O dobro dos numeros são [6, 14, 4, 16, 2, 8, 20]\n",
            "Os valores pares são [2, 8, 4, 10]\n",
            "o dobro dos pares são [4, 16, 8, 20]\n"
          ]
        }
      ]
    },
    {
      "cell_type": "code",
      "source": [],
      "metadata": {
        "id": "xoRQC5jiuG28"
      },
      "execution_count": null,
      "outputs": []
    }
  ]
}