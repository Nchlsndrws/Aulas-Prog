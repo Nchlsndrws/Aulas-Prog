{
  "nbformat": 4,
  "nbformat_minor": 0,
  "metadata": {
    "colab": {
      "provenance": [],
      "authorship_tag": "ABX9TyMPRFMOa9E/IqURimR3OZho",
      "include_colab_link": true
    },
    "kernelspec": {
      "name": "python3",
      "display_name": "Python 3"
    },
    "language_info": {
      "name": "python"
    }
  },
  "cells": [
    {
      "cell_type": "markdown",
      "metadata": {
        "id": "view-in-github",
        "colab_type": "text"
      },
      "source": [
        "<a href=\"https://colab.research.google.com/github/Nchlsndrws/Aulas-Prog/blob/main/Fun%C3%A7%C3%B5es.ipynb\" target=\"_parent\"><img src=\"https://colab.research.google.com/assets/colab-badge.svg\" alt=\"Open In Colab\"/></a>"
      ]
    },
    {
      "cell_type": "code",
      "execution_count": 3,
      "metadata": {
        "colab": {
          "base_uri": "https://localhost:8080/"
        },
        "id": "s7zLruRJkl_d",
        "outputId": "b105f6c3-4577-43cb-cc72-9d1e52bbb2d8"
      },
      "outputs": [
        {
          "output_type": "stream",
          "name": "stdout",
          "text": [
            "olá, estrou dentro da função\n",
            "13\n"
          ]
        }
      ],
      "source": [
        "def saudacao():\n",
        "  print('olá, estrou dentro da função')\n",
        "\n",
        "def soma():\n",
        "  print(5+8)\n",
        "\n",
        "saudacao()\n",
        "soma()"
      ]
    },
    {
      "cell_type": "code",
      "source": [
        "def somar(a,b):\n",
        "  return a+b\n",
        "somar(5,6)\n",
        "print(a)m"
      ],
      "metadata": {
        "colab": {
          "base_uri": "https://localhost:8080/"
        },
        "id": "vLDQW6I2oAB-",
        "outputId": "237622f5-3e74-4d35-fbb3-85978fdbc1f1"
      },
      "execution_count": 2,
      "outputs": [
        {
          "output_type": "stream",
          "name": "stdout",
          "text": [
            "5\n"
          ]
        }
      ]
    },
    {
      "cell_type": "code",
      "source": [
        "def quadrado(a):\n",
        "  return a**2\n",
        "a= int(input( 'escreva um valor para ser elevado ao quadrado: '))\n",
        "quadrado(a)"
      ],
      "metadata": {
        "colab": {
          "base_uri": "https://localhost:8080/"
        },
        "id": "iaNIXKsZoZJm",
        "outputId": "aa1bcd73-f158-46b6-a5d7-cebec72f7f1a"
      },
      "execution_count": 4,
      "outputs": [
        {
          "name": "stdout",
          "output_type": "stream",
          "text": [
            "escreva um valor para ser elevado ao quadrado: 5\n"
          ]
        },
        {
          "output_type": "execute_result",
          "data": {
            "text/plain": [
              "25"
            ]
          },
          "metadata": {},
          "execution_count": 4
        }
      ]
    },
    {
      "cell_type": "markdown",
      "source": [
        "PARAMENTROS"
      ],
      "metadata": {
        "id": "1-LlSdntqJHq"
      }
    },
    {
      "cell_type": "code",
      "source": [
        "#padra (default)\n",
        "def exibirhoratirioaula(disciplina, horario=9):\n",
        "  print(f'{disciplina} - {horario} horas.')\n",
        "\n",
        "exibirhoratirioaula('progamação')\n",
        "exibirhoratirioaula('modelagem de software', 8)"
      ],
      "metadata": {
        "colab": {
          "base_uri": "https://localhost:8080/"
        },
        "id": "tJKyan7QqMLy",
        "outputId": "92eda45d-43fb-4101-e93a-148a4de91003"
      },
      "execution_count": 5,
      "outputs": [
        {
          "output_type": "stream",
          "name": "stdout",
          "text": [
            "progamação - 9 horas.\n",
            "modelagem de software - 8 horas.\n"
          ]
        }
      ]
    },
    {
      "cell_type": "code",
      "source": [
        "def exibirproduto(nome, preco):\n",
        "  print(f'{nome} : R${preco}')\n",
        "exibirproduto(preco=20, nome='arroz')\n",
        "exibirproduto(preco= 19.90, nome='café')"
      ],
      "metadata": {
        "colab": {
          "base_uri": "https://localhost:8080/"
        },
        "id": "gqtkOAw8rCUb",
        "outputId": "ec48fec4-97a3-4f63-9fe5-3494f9267732"
      },
      "execution_count": 7,
      "outputs": [
        {
          "output_type": "stream",
          "name": "stdout",
          "text": [
            "arroz : R$20\n",
            "café : R$19.9\n"
          ]
        }
      ]
    },
    {
      "cell_type": "code",
      "source": [
        "def exibirjogo(*,nomejogo,anolancamento):\n",
        "    print(f'{nomejogo}, lançado em {anolancamento}')\n",
        "\n",
        "def exibirproduto(nome, *, preco):\n",
        "    print(f'{nome} : R${preco}' )\n",
        "\n",
        "exibirjogo(nomejogo= 'mario', anolancamento= 1985)\n",
        "print()\n",
        "exibirproduto('foice', preco= 19.90)"
      ],
      "metadata": {
        "colab": {
          "base_uri": "https://localhost:8080/"
        },
        "id": "IbbP2xKxsFEL",
        "outputId": "c3c3c690-d5b9-49f4-9986-670282adfd62"
      },
      "execution_count": 10,
      "outputs": [
        {
          "output_type": "stream",
          "name": "stdout",
          "text": [
            "mario, lançado em 1985\n",
            "\n",
            "foice : R$19.9\n"
          ]
        }
      ]
    },
    {
      "cell_type": "code",
      "source": [
        "def gerarpersonagem(nome, altura,*, forca, arma):\n",
        "  print(f'Me chamo {nome}, tenho {altura}, não sou tão forte {forca} mas tenho muita habilidade {arma}')\n",
        "\n",
        "gerarpersonagem(nome = 'Pira', altura= 1.70, forca = 36, arma='cutelo')\n"
      ],
      "metadata": {
        "colab": {
          "base_uri": "https://localhost:8080/"
        },
        "id": "Hwf-dDmUuKMX",
        "outputId": "ec063f2e-6ef8-464b-9437-8c8893f6da88"
      },
      "execution_count": 19,
      "outputs": [
        {
          "output_type": "stream",
          "name": "stdout",
          "text": [
            "Me chamo Pira, tenho 1.7, não sou tão forte 36 mas tenho muita habilidade cutelo\n"
          ]
        }
      ]
    },
    {
      "cell_type": "markdown",
      "source": [
        "ARGS"
      ],
      "metadata": {
        "id": "jG5E0k1gxdbf"
      }
    },
    {
      "cell_type": "code",
      "source": [
        "def somanotas(*args):\n",
        "  return sum(args)#return args\n",
        "print(somanotas(1,2,3,4,5,6,7,8,9))"
      ],
      "metadata": {
        "colab": {
          "base_uri": "https://localhost:8080/"
        },
        "id": "l_ZZF-x5xVRo",
        "outputId": "ffc29ee2-1e1a-4399-913f-cf4ca6c913de"
      },
      "execution_count": 21,
      "outputs": [
        {
          "output_type": "stream",
          "name": "stdout",
          "text": [
            "45\n"
          ]
        }
      ]
    },
    {
      "cell_type": "code",
      "source": [
        "def somarnums(*valores,a):\n",
        "  print(valores)\n",
        "  for valor in valores:\n",
        "    a += valor\n",
        "    print(a)\n",
        "\n",
        "somarnums( 5, 6 , 9, 10, a= 10)"
      ],
      "metadata": {
        "colab": {
          "base_uri": "https://localhost:8080/"
        },
        "id": "7frXS-T-xzn5",
        "outputId": "87a5b6dd-5b0d-481d-8b24-827a18a131fd"
      },
      "execution_count": 24,
      "outputs": [
        {
          "output_type": "stream",
          "name": "stdout",
          "text": [
            "(5, 6, 9, 10)\n",
            "15\n",
            "21\n",
            "30\n",
            "40\n"
          ]
        }
      ]
    },
    {
      "cell_type": "markdown",
      "source": [
        "KWARGS"
      ],
      "metadata": {
        "id": "gm4jCQNAzB82"
      }
    },
    {
      "cell_type": "code",
      "source": [
        "def concatenar(**palavra):\n",
        "  frase = ''\n",
        "  for palavra in palavra.values():\n",
        "    frase += palavra\n",
        "    print(frase)\n",
        "concatenar (a='eu', b= 'gosto',c= '.')"
      ],
      "metadata": {
        "colab": {
          "base_uri": "https://localhost:8080/"
        },
        "id": "5I4wlVhpysSE",
        "outputId": "8589852e-1577-4bd3-8c80-d3f27452ce0c"
      },
      "execution_count": 32,
      "outputs": [
        {
          "output_type": "stream",
          "name": "stdout",
          "text": [
            "eu\n",
            "eugosto\n",
            "eugosto.\n"
          ]
        }
      ]
    },
    {
      "cell_type": "code",
      "source": [
        "def calcula(nome,*args,**kwargs):\n",
        "  print(nome)\n",
        "  print(args)\n",
        "  print(kwargs)\n",
        "  for arg in args:\n",
        "    print(arg)\n",
        "  for kwarg in kwargs.values():\n",
        "    print(kwarg)\n",
        "calcula('Jose', 5,6,72,1, a=4, b=6,c=8)"
      ],
      "metadata": {
        "colab": {
          "base_uri": "https://localhost:8080/"
        },
        "id": "-OX2db9l0oBP",
        "outputId": "03c67c8c-0641-41a6-bef3-648a847f5778"
      },
      "execution_count": 35,
      "outputs": [
        {
          "output_type": "stream",
          "name": "stdout",
          "text": [
            "Jose\n",
            "(5, 6, 72, 1)\n",
            "{'a': 4, 'b': 6, 'c': 8}\n",
            "5\n",
            "6\n",
            "72\n",
            "1\n",
            "4\n",
            "6\n",
            "8\n"
          ]
        }
      ]
    },
    {
      "cell_type": "code",
      "source": [
        "def somarnums(*args, **kwargs):\n",
        "  soma= 0\n",
        "  for valor in args:\n",
        "    soma += valor\n",
        "  print(soma)\n",
        "  for valor in kwargs.values():\n",
        "    soma += valor\n",
        "    return soma\n",
        "somarnums(5,6,72,1, a=4, b=6,c=8)"
      ],
      "metadata": {
        "colab": {
          "base_uri": "https://localhost:8080/"
        },
        "id": "_ljSmUF11ZOX",
        "outputId": "58da660d-cdbf-4b76-e6f6-cae2a291ec4b"
      },
      "execution_count": 50,
      "outputs": [
        {
          "output_type": "stream",
          "name": "stdout",
          "text": [
            "84\n"
          ]
        },
        {
          "output_type": "execute_result",
          "data": {
            "text/plain": [
              "88"
            ]
          },
          "metadata": {},
          "execution_count": 50
        }
      ]
    },
    {
      "cell_type": "code",
      "source": [
        "def exibir_perfil(*hobbies, nome, **dados_pessoais):\n",
        "    print(f\"Nome: {nome}\")\n",
        "    print(\"Hobbies:\")\n",
        "    for hobby in hobbies:\n",
        "        print(f\"- {hobby}\")\n",
        "\n",
        "exibir_perfil(\"ler\", \"cozinhar\", \"viajar\", nome=\"João\", idade=30, cidade=\"São Paulo\")"
      ],
      "metadata": {
        "colab": {
          "base_uri": "https://localhost:8080/"
        },
        "id": "tYvtQSP33Rmq",
        "outputId": "72e62870-6bf4-47fb-a27d-d0f60b321ac2"
      },
      "execution_count": 48,
      "outputs": [
        {
          "output_type": "stream",
          "name": "stdout",
          "text": [
            "Nome: João\n",
            "Hobbies:\n",
            "- ler\n",
            "- cozinhar\n",
            "- viajar\n"
          ]
        }
      ]
    }
  ]
}